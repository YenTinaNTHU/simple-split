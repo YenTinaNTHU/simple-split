{
 "cells": [
  {
   "cell_type": "code",
   "execution_count": null,
   "metadata": {},
   "outputs": [],
   "source": []
  }
 ],
 "metadata": {
  "kernelspec": {
   "display_name": "Python 3.9.15 ('ft_final')",
   "language": "python",
   "name": "python3"
  },
  "language_info": {
   "name": "python",
   "version": "3.9.15"
  },
  "orig_nbformat": 4,
  "vscode": {
   "interpreter": {
    "hash": "fa6166020312f5a126983fe856759b4e0df96c10c33932e7bd70ab99351715ec"
   }
  }
 },
 "nbformat": 4,
 "nbformat_minor": 2
}
