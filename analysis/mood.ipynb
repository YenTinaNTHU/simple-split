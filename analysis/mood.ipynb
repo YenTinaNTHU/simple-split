{
 "cells": [
  {
   "cell_type": "code",
   "execution_count": 4,
   "metadata": {},
   "outputs": [],
   "source": [
    "from google.cloud import language_v1"
   ]
  },
  {
   "cell_type": "code",
   "execution_count": 5,
   "metadata": {},
   "outputs": [],
   "source": [
    "def language_analysis(text):\n",
    "    client = language_v1.LanguageServiceClient()\n",
    "    document = client.document_from_text(text)\n",
    "    sent_analysis = document.analyze_sentiment()\n",
    "    print(dir(sent_analysis))\n",
    "    sentiment = sent_analysis.sentiment\n",
    "    return sentiment"
   ]
  },
  {
   "cell_type": "code",
   "execution_count": 6,
   "metadata": {},
   "outputs": [
    {
     "ename": "AttributeError",
     "evalue": "module 'google.cloud.language' has no attribute 'Client'",
     "output_type": "error",
     "traceback": [
      "\u001b[0;31m---------------------------------------------------------------------------\u001b[0m",
      "\u001b[0;31mAttributeError\u001b[0m                            Traceback (most recent call last)",
      "Cell \u001b[0;32mIn[6], line 2\u001b[0m\n\u001b[1;32m      1\u001b[0m text \u001b[39m=\u001b[39m \u001b[39m\"\u001b[39m\u001b[39m今天真開心！\u001b[39m\u001b[39m\"\u001b[39m\n\u001b[0;32m----> 2\u001b[0m sentiment \u001b[39m=\u001b[39m language_analysis(text)\n\u001b[1;32m      3\u001b[0m \u001b[39mprint\u001b[39m(sentiment\u001b[39m.\u001b[39mscore, sentiment\u001b[39m.\u001b[39mmagnitude)\n",
      "Cell \u001b[0;32mIn[5], line 2\u001b[0m, in \u001b[0;36mlanguage_analysis\u001b[0;34m(text)\u001b[0m\n\u001b[1;32m      1\u001b[0m \u001b[39mdef\u001b[39;00m \u001b[39mlanguage_analysis\u001b[39m(text):\n\u001b[0;32m----> 2\u001b[0m     client \u001b[39m=\u001b[39m language\u001b[39m.\u001b[39;49mClient()\n\u001b[1;32m      3\u001b[0m     document \u001b[39m=\u001b[39m client\u001b[39m.\u001b[39mdocument_from_text(text)\n\u001b[1;32m      4\u001b[0m     sent_analysis \u001b[39m=\u001b[39m document\u001b[39m.\u001b[39manalyze_sentiment()\n",
      "\u001b[0;31mAttributeError\u001b[0m: module 'google.cloud.language' has no attribute 'Client'"
     ]
    }
   ],
   "source": [
    "text = \"今天真開心！\"\n",
    "sentiment = language_analysis(text)\n",
    "print(sentiment.score, sentiment.magnitude)"
   ]
  }
 ],
 "metadata": {
  "kernelspec": {
   "display_name": "Python 3.9.15 ('ft_final')",
   "language": "python",
   "name": "python3"
  },
  "language_info": {
   "codemirror_mode": {
    "name": "ipython",
    "version": 3
   },
   "file_extension": ".py",
   "mimetype": "text/x-python",
   "name": "python",
   "nbconvert_exporter": "python",
   "pygments_lexer": "ipython3",
   "version": "3.9.15"
  },
  "orig_nbformat": 4,
  "vscode": {
   "interpreter": {
    "hash": "fa6166020312f5a126983fe856759b4e0df96c10c33932e7bd70ab99351715ec"
   }
  }
 },
 "nbformat": 4,
 "nbformat_minor": 2
}
